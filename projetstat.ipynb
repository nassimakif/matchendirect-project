{
 "cells": [
  {
   "cell_type": "code",
   "execution_count": 1,
   "metadata": {},
   "outputs": [],
   "source": [
    "import time\n",
    "from selenium import webdriver \n",
    "from selenium.webdriver.common.keys import Keys\n",
    "import pandas as pd\n",
    "import seaborn as sns\n",
    "import datetime\n",
    "import json\n",
    "import pymongo\n",
    "from pymongo import MongoClient"
   ]
  },
  {
   "cell_type": "code",
   "execution_count": null,
   "metadata": {},
   "outputs": [],
   "source": [
    "browser = webdriver.Chrome('D:\\ipssi\\webscrapping\\chromedriver.exe')"
   ]
  },
  {
   "cell_type": "code",
   "execution_count": null,
   "metadata": {},
   "outputs": [],
   "source": [
    "browser.get('https://www.matchendirect.fr/equipe/paris-saint-germain.html')\n",
    "time.sleep(3)"
   ]
  },
  {
   "cell_type": "code",
   "execution_count": null,
   "metadata": {},
   "outputs": [],
   "source": [
    "browser.maximize_window()\n",
    "time.sleep(2)"
   ]
  },
  {
   "cell_type": "code",
   "execution_count": null,
   "metadata": {
    "scrolled": true
   },
   "outputs": [],
   "source": [
    "test = browser.find_elements_by_css_selector('#livescore > div:nth-child(1) .panel-body table.table-hover td.lm3 span.lm3_score.n, #livescore > div:nth-child(1) .panel-body table.table-hover td.lm3 span.lm3_score.g, #livescore > div:nth-child(1) .panel-body table.table-hover td.lm3 span.lm3_score.p')\n",
    "list_elem = []\n",
    "def hasNumbers(inputString):\n",
    "        return any(char.isdigit() for char in inputString)\n",
    "for i in test:\n",
    "\n",
    "    lol = i.find_element_by_xpath('..')\n",
    "    list_elem.append(lol.get_attribute('href'))\n",
    "    \n",
    "dict_test = []\n",
    "for url in list_elem :\n",
    "    browser.get(url)\n",
    "    title = browser.find_element_by_tag_name('h1').text\n",
    "    print(title)\n",
    "    title_good = title.split('-')\n",
    "    table = browser.find_element_by_xpath('//*[@id=\"ajax-match-detail-3\"]/div[1]/div[2]/table')\n",
    "    table_split = table.text.split('\\n')\n",
    "    \n",
    "    dict_ext = {}\n",
    "    test = [2,1]\n",
    "    score_final = browser.find_elements_by_css_selector('.score')\n",
    "    but_domicile = int(score_final[0].text)\n",
    "    but_exterieur = int(score_final[1].text)\n",
    "    if title_good[0] == 'PSG ':\n",
    "        test = [-2,-1]\n",
    "        dict_ext['but_encaisse'] = but_exterieur\n",
    "        dict_ext['domicile'] = True\n",
    "        dict_ext['adversaire'] = title_good[1].strip()\n",
    "        if but_domicile > but_exterieur:\n",
    "            dict_ext['resultat'] = 'Victoire'\n",
    "        elif but_domicile < but_exterieur:\n",
    "            dict_ext['resultat'] = 'Perdu'\n",
    "        else:\n",
    "            dict_ext['resultat'] = 'Nul'\n",
    "            \n",
    "    else:\n",
    "        dict_ext['but_encaisse'] = but_domicile\n",
    "        dict_ext['domicile'] = False\n",
    "        dict_ext['adversaire'] = title_good[0].strip()\n",
    "        if but_domicile > but_exterieur:\n",
    "            dict_ext['resultat'] = 'Perdu'\n",
    "        elif but_domicile < but_exterieur:\n",
    "            dict_ext['resultat'] = 'Victoire'\n",
    "        else:\n",
    "            dict_ext['resultat'] = 'Nul'\n",
    "        \n",
    "    for i in table_split :\n",
    "        if not hasNumbers(i):\n",
    "            try:\n",
    "                \n",
    "                dict_ext[i] = int(table_split[table_split.index(i)+test[0]])\n",
    "                dict_ext[i+'_pct'] = int(''.join(list(filter(str.isdigit, table_split[table_split.index(i)+test[1]]))))\n",
    "            except:\n",
    "                dict_ext[i] = table_split[table_split.index(i)+test[0]]\n",
    "                dict_ext[i+'_pct'] = table_split[table_split.index(i)+test[1]]\n",
    "    \n",
    "    if not 'Joueur titulaire' in dict_ext:\n",
    "        dict_ext['title'] = title\n",
    "        dict_test.append(dict_ext)\n",
    "    \n",
    "    time.sleep(2)\n",
    "    \n",
    "print(dict_test)\n",
    "\n",
    "for i in dict_test :\n",
    "    print(i)"
   ]
  },
  {
   "cell_type": "code",
   "execution_count": null,
   "metadata": {},
   "outputs": [],
   "source": [
    "dict_test"
   ]
  },
  {
   "cell_type": "code",
   "execution_count": null,
   "metadata": {},
   "outputs": [],
   "source": [
    "with open('personal.json', 'w') as json_file:\n",
    "    json.dump(dict_test, json_file)\n",
    "    print(type(json_file))"
   ]
  },
  {
   "cell_type": "code",
   "execution_count": null,
   "metadata": {
    "scrolled": true
   },
   "outputs": [],
   "source": [
    "with open('personal.json') as f:\n",
    "    valuee = json.load(f)\n",
    "print(valuee)"
   ]
  },
  {
   "cell_type": "code",
   "execution_count": null,
   "metadata": {},
   "outputs": [],
   "source": [
    "# connexion bdd\n",
    "\n",
    "client = MongoClient('localhost', 27017)\n",
    "db = client['foot_stat']\n",
    "db"
   ]
  },
  {
   "cell_type": "code",
   "execution_count": null,
   "metadata": {},
   "outputs": [],
   "source": [
    "# total de victoires, looses et nul\n",
    "\n",
    "resultat = { \"$group\" : {\"_id\" : \"$resultat\", \"total\" : { \"$sum\" : 1 }} }\n",
    "tri = {\"$sort\" : {\"total\" : -1}}\n",
    "\n",
    "\n",
    "for i in db.psg_stat.aggregate( [resultat, tri] ) :\n",
    "    print(i)"
   ]
  },
  {
   "cell_type": "code",
   "execution_count": null,
   "metadata": {},
   "outputs": [],
   "source": [
    "#moyenne de but marqué domicile et ext\n",
    "\n",
    "varMatch = { \"$group\" : { \"_id\":{\"domicile\": \"$domicile\"}, \"avgButs\":{\"$avg\": \"$Buts\"}}}\n",
    "\n",
    "varSort = { \"$sort\" : {\"domicile\":-1} }\n",
    "\n",
    "for i in db.psg_stat.aggregate( [varMatch, varSort] ):\n",
    "    print(i)\n"
   ]
  },
  {
   "cell_type": "code",
   "execution_count": null,
   "metadata": {},
   "outputs": [],
   "source": [
    "#total de cartons jaune\n",
    "\n",
    "varMatch = { \"$group\" : { \"_id\":{\"domicile\": \"$domicile\"}, \"sumCartonjaune\":{\"$sum\": \"$Carton jaune\"}}}\n",
    "\n",
    "varSort = { \"$sort\" : {\"domicile\":-1} }\n",
    "\n",
    "for i in db.psg_stat.aggregate( [varMatch, varSort] ):\n",
    "    print(i)"
   ]
  },
  {
   "cell_type": "code",
   "execution_count": null,
   "metadata": {
    "scrolled": true
   },
   "outputs": [],
   "source": [
    "#total de cartons jaune par matchs\n",
    "\n",
    "varMatch = { \"$group\" : { \"_id\":{\"title\": \"$title\"}, \"sumCartonjaune\":{\"$sum\": \"$Carton jaune\"}}}\n",
    "\n",
    "varSort = { \"$sort\" : {\"sumCartonjaune\":-1} }\n",
    "\n",
    "for i in db.psg_stat.aggregate( [varMatch, varSort] ):\n",
    "    print(i)"
   ]
  },
  {
   "cell_type": "code",
   "execution_count": null,
   "metadata": {},
   "outputs": [],
   "source": [
    "varMatch = { \"$group\" : { \"_id\":{\"domicile\": \"$domicile\", \"resultat\": \"$resultat\"}, \"avgPossession\":{\"$avg\": \"$Possession_pct\"}}}\n",
    "# varProject = { $project : {name:1, age:1, _id:0} }\n",
    "varSort = { \"$sort\" : {\"avgPossession\":-1} }\n",
    "\n",
    "for i in db.psg_stat.aggregate( [varMatch, varSort] ):\n",
    "    print(i)"
   ]
  },
  {
   "cell_type": "code",
   "execution_count": 21,
   "metadata": {},
   "outputs": [
    {
     "name": "stdout",
     "output_type": "stream",
     "text": [
      "    but_encaisse  domicile           adversaire  resultat  Possession  \\\n",
      "0              2     False   Olympique Lyonnais  Victoire          56   \n",
      "1              2      True               Nantes     Perdu          67   \n",
      "2              0     False             Bordeaux  Victoire          53   \n",
      "3              0     False                Dijon  Victoire          64   \n",
      "4              2      True               Monaco     Perdu          67   \n",
      "5              1      True                 Nice  Victoire          52   \n",
      "6              0     False  Olympique Marseille  Victoire          49   \n",
      "7              0      True                Nîmes  Victoire          60   \n",
      "8              3     False              Lorient     Perdu          63   \n",
      "9              0      True          Montpellier  Victoire          65   \n",
      "10             0     False               Angers  Victoire          58   \n",
      "11             0      True                Brest  Victoire          60   \n",
      "12             1     False                Saint       Nul          61   \n",
      "13             0      True           Strasbourg  Victoire          63   \n",
      "14             0     False                Lille       Nul          63   \n",
      "15             0      True              Lorient  Victoire          70   \n",
      "16             1      True   Olympique Lyonnais     Perdu          58   \n",
      "17             1     False          Montpellier  Victoire          57   \n",
      "18             2      True             Bordeaux       Nul          61   \n",
      "19             3     False               Monaco     Perdu          48   \n",
      "20             0      True               Rennes  Victoire          46   \n",
      "21             0     False               Nantes  Victoire          62   \n",
      "22             0     False                Nîmes  Victoire          66   \n",
      "23             1      True               Angers  Victoire          58   \n",
      "24             0     False                Reims  Victoire          63   \n",
      "25             0     False                 Nice  Victoire          52   \n",
      "26             0      True                 Metz  Victoire          65   \n",
      "27             0     False                       Victoire          41   \n",
      "28             1     False                 Lens     Perdu          73   \n",
      "\n",
      "    Possession_pct  Attaques  Attaques_pct  Attaques dangereuses  \\\n",
      "0               56        88            59                    34   \n",
      "1               67        88            61                    43   \n",
      "2               53        80            53                    33   \n",
      "3               64        85            62                    35   \n",
      "4               67        81            65                    47   \n",
      "5               52        72            53                    47   \n",
      "6               49        60            47                    30   \n",
      "7               60       101            59                    40   \n",
      "8               63        79            58                    33   \n",
      "9               65        72            63                    49   \n",
      "10              58       105            55                    50   \n",
      "11              60        70            50                    44   \n",
      "12              61        96            55                    46   \n",
      "13              63        76            62                    43   \n",
      "14              63       119            58                    50   \n",
      "15              70       100            60                    41   \n",
      "16              58        62            52                    35   \n",
      "17              57        93            54                    52   \n",
      "18              61        71            55                    58   \n",
      "19              48        75            51                    38   \n",
      "20              46        80            51                    50   \n",
      "21              62        83            55                    46   \n",
      "22              66        86            61                    54   \n",
      "23              58        74            58                    45   \n",
      "24              63        78            55                    54   \n",
      "25              52        70            57                    40   \n",
      "26              65        75            52                    51   \n",
      "27              41        52            37                    20   \n",
      "28              73        96            57                    51   \n",
      "\n",
      "    Attaques dangereuses_pct  ...  Tirs arrêtés  Tirs arrêtés_pct  Pénaltys  \\\n",
      "0                         49  ...           NaN               NaN       NaN   \n",
      "1                         66  ...           NaN               NaN       NaN   \n",
      "2                         52  ...           2.0             100.0       NaN   \n",
      "3                         59  ...           1.0              33.0       1.0   \n",
      "4                         75  ...           2.0              67.0       NaN   \n",
      "5                         55  ...           2.0             100.0       NaN   \n",
      "6                         50  ...           NaN               NaN       NaN   \n",
      "7                         54  ...           0.0               0.0       NaN   \n",
      "8                         58  ...           3.0             100.0       2.0   \n",
      "9                         74  ...           3.0             100.0       NaN   \n",
      "10                        59  ...           1.0              50.0       NaN   \n",
      "11                        55  ...           2.0              40.0       NaN   \n",
      "12                        54  ...           1.0             100.0       NaN   \n",
      "13                        66  ...           1.0              33.0       NaN   \n",
      "14                        53  ...           1.0              33.0       NaN   \n",
      "15                        76  ...           7.0              88.0       1.0   \n",
      "16                        54  ...           3.0              60.0       NaN   \n",
      "17                        57  ...           1.0              20.0       NaN   \n",
      "18                        64  ...           0.0               0.0       1.0   \n",
      "19                        49  ...           0.0               0.0       1.0   \n",
      "20                        53  ...           0.0               0.0       NaN   \n",
      "21                        63  ...           1.0              33.0       1.0   \n",
      "22                        69  ...           5.0             100.0       NaN   \n",
      "23                        67  ...           1.0              50.0       NaN   \n",
      "24                        57  ...           1.0             100.0       NaN   \n",
      "25                        55  ...           1.0              25.0       1.0   \n",
      "26                        65  ...           1.0              33.0       NaN   \n",
      "27                        34  ...           1.0              25.0       NaN   \n",
      "28                        67  ...           2.0              40.0       NaN   \n",
      "\n",
      "    Pénaltys_pct  Tirs sur le poteau  Tirs sur le poteau_pct  \\\n",
      "0            NaN                 NaN                     NaN   \n",
      "1            NaN                 NaN                     NaN   \n",
      "2            NaN                 NaN                     NaN   \n",
      "3          100.0                 NaN                     NaN   \n",
      "4            NaN                 NaN                     NaN   \n",
      "5            NaN                 1.0                    50.0   \n",
      "6            NaN                 NaN                     NaN   \n",
      "7            NaN                 1.0                   100.0   \n",
      "8          100.0                 NaN                     NaN   \n",
      "9            NaN                 1.0                   100.0   \n",
      "10           NaN                 NaN                     NaN   \n",
      "11           NaN                 NaN                     NaN   \n",
      "12           NaN                 0.0                     0.0   \n",
      "13           NaN                 NaN                     NaN   \n",
      "14           NaN                 NaN                     NaN   \n",
      "15         100.0                 1.0                    50.0   \n",
      "16           NaN                 NaN                     NaN   \n",
      "17           NaN                 0.0                     0.0   \n",
      "18         100.0                 1.0                   100.0   \n",
      "19          50.0                 1.0                   100.0   \n",
      "20           NaN                 1.0                   100.0   \n",
      "21          50.0                 NaN                     NaN   \n",
      "22           NaN                 3.0                   100.0   \n",
      "23           NaN                 NaN                     NaN   \n",
      "24           NaN                 0.0                     0.0   \n",
      "25         100.0                 2.0                   100.0   \n",
      "26           NaN                 NaN                     NaN   \n",
      "27           NaN                 NaN                     NaN   \n",
      "28           NaN                 NaN                     NaN   \n",
      "\n",
      "    Carton rouge direct  Carton rouge direct_pct  Carton rouge  \\\n",
      "0                   NaN                      NaN           NaN   \n",
      "1                   NaN                      NaN           NaN   \n",
      "2                   NaN                      NaN           NaN   \n",
      "3                   NaN                      NaN           NaN   \n",
      "4                   NaN                      NaN           NaN   \n",
      "5                   NaN                      NaN           NaN   \n",
      "6                   0.0                      0.0           NaN   \n",
      "7                   NaN                      NaN           NaN   \n",
      "8                   NaN                      NaN           NaN   \n",
      "9                   0.0                      0.0           NaN   \n",
      "10                  NaN                      NaN           NaN   \n",
      "11                  NaN                      NaN           NaN   \n",
      "12                  NaN                      NaN           NaN   \n",
      "13                  NaN                      NaN           NaN   \n",
      "14                  NaN                      NaN           NaN   \n",
      "15                  0.0                      0.0           NaN   \n",
      "16                  0.0                      0.0           NaN   \n",
      "17                  NaN                      NaN           NaN   \n",
      "18                  NaN                      NaN           NaN   \n",
      "19                  1.0                    100.0           NaN   \n",
      "20                  NaN                      NaN           NaN   \n",
      "21                  NaN                      NaN           NaN   \n",
      "22                  0.0                      0.0           NaN   \n",
      "23                  NaN                      NaN           NaN   \n",
      "24                  NaN                      NaN           NaN   \n",
      "25                  NaN                      NaN           NaN   \n",
      "26                  NaN                      NaN           1.0   \n",
      "27                  2.0                     40.0           NaN   \n",
      "28                  NaN                      NaN           NaN   \n",
      "\n",
      "    Carton rouge_pct  \n",
      "0                NaN  \n",
      "1                NaN  \n",
      "2                NaN  \n",
      "3                NaN  \n",
      "4                NaN  \n",
      "5                NaN  \n",
      "6                NaN  \n",
      "7                NaN  \n",
      "8                NaN  \n",
      "9                NaN  \n",
      "10               NaN  \n",
      "11               NaN  \n",
      "12               NaN  \n",
      "13               NaN  \n",
      "14               NaN  \n",
      "15               NaN  \n",
      "16               NaN  \n",
      "17               NaN  \n",
      "18               NaN  \n",
      "19               NaN  \n",
      "20               NaN  \n",
      "21               NaN  \n",
      "22               NaN  \n",
      "23               NaN  \n",
      "24               NaN  \n",
      "25               NaN  \n",
      "26             100.0  \n",
      "27               NaN  \n",
      "28               NaN  \n",
      "\n",
      "[29 rows x 43 columns]\n"
     ]
    }
   ],
   "source": [
    "df = pd.read_json('/home/godweak/Téléchargements/personal.json', orient = 'records')\n",
    "\n",
    "print(df)"
   ]
  },
  {
   "cell_type": "code",
   "execution_count": 54,
   "metadata": {},
   "outputs": [
    {
     "data": {
      "image/png": "[encoded data removed]",
      "text/plain": [
       "<Figure size 432x288 with 1 Axes>"
      ]
     },
     "metadata": {
      "needs_background": "light"
     },
     "output_type": "display_data"
    }
   ],
   "source": [
    "sns.barplot(x='Buts', y='but_encaisse', ci = None, data=df);"
   ]
  },
  {
   "cell_type": "code",
   "execution_count": 55,
   "metadata": {},
   "outputs": [
    {
     "data": {
      "text/plain": [
       "<matplotlib.axes._subplots.AxesSubplot at 0x7fe9fbf12b50>"
      ]
     },
     "execution_count": 55,
     "metadata": {},
     "output_type": "execute_result"
    },
    {
     "data": {
      "image/png": "[encoded data removed]",
      "text/plain": [
       "<Figure size 432x288 with 1 Axes>"
      ]
     },
     "metadata": {
      "needs_background": "light"
     },
     "output_type": "display_data"
    }
   ],
   "source": [
    "sns.barplot(x='Possession', y='Attaques dangereuses', ci = None, data=df)"
   ]
  },
  {
   "cell_type": "code",
   "execution_count": 6,
   "metadata": {},
   "outputs": [
    {
     "data": {
      "text/plain": [
       "<seaborn.axisgrid.FacetGrid at 0x7fe9fc9a2b50>"
      ]
     },
     "execution_count": 6,
     "metadata": {},
     "output_type": "execute_result"
    },
    {
     "data": {
      "image/png": "[encoded data removed]",
      "text/plain": [
       "<Figure size 360x360 with 1 Axes>"
      ]
     },
     "metadata": {
      "needs_background": "light"
     },
     "output_type": "display_data"
    }
   ],
   "source": [
    "sns.catplot(x=\"resultat\", kind=\"count\", palette=\"ch:.1000\", data=df)"
   ]
  },
  {
   "cell_type": "code",
   "execution_count": 38,
   "metadata": {},
   "outputs": [
    {
     "data": {
      "image/png": "[encoded data removed]",
      "text/plain": [
       "<Figure size 360x360 with 1 Axes>"
      ]
     },
     "metadata": {
      "needs_background": "light"
     },
     "output_type": "display_data"
    }
   ],
   "source": [
    "resultat_perdu = df[df['resultat'] == \"Perdu\"]\n",
    "\n",
    "\n",
    "sns.catplot(x=\"resultat\", y='but_encaisse', data=resultat_perdu)"
   ]
  },
  {
   "cell_type": "code",
   "execution_count": null,
   "metadata": {},
   "outputs": [],
   "source": []
  }
 ],
 "metadata": {
  "kernelspec": {
   "display_name": "Python 3",
   "language": "python",
   "name": "python3"
  },
  "language_info": {
   "codemirror_mode": {
    "name": "ipython",
    "version": 3
   },
   "file_extension": ".py",
   "mimetype": "text/x-python",
   "name": "python",
   "nbconvert_exporter": "python",
   "pygments_lexer": "ipython3",
   "version": "3.7.6"
  }
 },
 "nbformat": 4,
 "nbformat_minor": 4
}
